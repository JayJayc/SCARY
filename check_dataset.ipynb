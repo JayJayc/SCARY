{
 "cells": [
  {
   "cell_type": "code",
   "execution_count": 1,
   "metadata": {},
   "outputs": [
    {
     "name": "stderr",
     "output_type": "stream",
     "text": [
      "Detecting 1 CUDA device(s).\n"
     ]
    }
   ],
   "source": [
    "import networkx as nx\n",
    "import warnings\n",
    "import numpy as np\n",
    "import os\n",
    "from pandas import DataFrame\n",
    "import csv\n",
    "import os.path\n",
    "from causalnex.structure import StructureModel\n",
    "from causalnex.plots import plot_structure\n",
    "from numpy import array, save, load\n",
    "from networkx import to_numpy_matrix\n",
    "from cdt.causality.graph import CAM\n",
    "import cdt\n",
    "from pandas import DataFrame\n",
    "from numpy import float32\n",
    "from os import path\n",
    "warnings.filterwarnings(\"ignore\")  # silence warnings\n",
    "\n",
    "# cdt.SETTINGS.rpath = os.getenv(\"RSCRIPT_PATH\")  # path to your r executable\n",
    "cdt.SETTINGS.rpath = 'C:\\Program Files\\R\\R-4.2.1\\\\bin\\Rscript' # path to your r executable\n",
    "\n"
   ]
  },
  {
   "cell_type": "code",
   "execution_count": 2,
   "metadata": {},
   "outputs": [],
   "source": [
    "DATA_DIR = \"CLeaR_2023_Dataset\""
   ]
  },
  {
   "cell_type": "code",
   "execution_count": 3,
   "metadata": {},
   "outputs": [
    {
     "data": {
      "text/plain": [
       "['linear_mechanism', 'mix_mechanism']"
      ]
     },
     "execution_count": 3,
     "metadata": {},
     "output_type": "execute_result"
    }
   ],
   "source": [
    "method_dirs = os.listdir(path=DATA_DIR)\n",
    "method_dirs"
   ]
  },
  {
   "cell_type": "markdown",
   "metadata": {},
   "source": [
    "# Plot graphs"
   ]
  },
  {
   "cell_type": "code",
   "execution_count": 4,
   "metadata": {},
   "outputs": [],
   "source": [
    "def generate_plot(dag_path, plot_path, csv_path):\n",
    "    dag = np.load(dag_path)\n",
    "\n",
    "    graph = nx.from_numpy_array(dag, create_using=nx.DiGraph)\n",
    "\n",
    "    e = list(graph.edges())\n",
    "    causal_nex_graph = StructureModel(e)\n",
    "    viz = plot_structure(causal_nex_graph)  # Default CausalNex visualisation\n",
    "    viz.draw(plot_path, format=\"jpg\")\n",
    "\n",
    "    # check if the file exists\n",
    "    file_exists = os.path.isfile(csv_path)\n",
    "\n",
    "    # open the file in append mode\n",
    "    with open(csv_path, \"a\", newline=\"\") as csvfile:\n",
    "        # create a CSV writer object\n",
    "        writer = csv.writer(csvfile)\n",
    "\n",
    "        # if the file doesn't exist, write the header row\n",
    "        if not file_exists:\n",
    "            writer.writerow([\"nodes\", \"edges\"])\n",
    "\n",
    "        # write the value to the CSV file\n",
    "        writer.writerow([graph.number_of_nodes(), graph.number_of_edges()])"
   ]
  },
  {
   "cell_type": "code",
   "execution_count": 5,
   "metadata": {},
   "outputs": [],
   "source": [
    "loops = 0\n",
    "for meth_dir in method_dirs:\n",
    "    method_path = os.path.join(DATA_DIR, meth_dir)\n",
    "    mechanism_dirs = os.listdir(path=method_path)\n",
    "\n",
    "    for dataset_dir in mechanism_dirs:\n",
    "        dataset_path = os.path.join(method_path, dataset_dir)\n",
    "        dag_plot_path = os.path.join(dataset_path, \"plot\")\n",
    "        if not os.path.isdir(dag_plot_path):\n",
    "            os.mkdir(dag_plot_path)\n",
    "\n",
    "        dag_mech_path = os.path.join(dataset_path, \"causal_mechanisms.json\")\n",
    "        dag_confounder_path = os.path.join(dataset_path, \"confounder_DAG1.npy\")\n",
    "        dag_path = os.path.join(dataset_path, \"DAG1.npy\")\n",
    "        dag_confounder_data_path = os.path.join(dataset_path, \"confounder_data1.npy\")\n",
    "        dag_data_path = os.path.join(dataset_path, \"data1.npy\")\n",
    "        dag_dataframe_path = os.path.join(dataset_path, \"data1.parquet\")\n",
    "\n",
    "        # Plot Paths\n",
    "        dag_confounder_plot_path = os.path.join(dag_plot_path, \"confounder_plot.jpg\")\n",
    "        dag_plot_path = os.path.join(dag_plot_path, \"plot.jpg\")\n",
    "        csv_path = os.path.join(dataset_path, \"details.csv\")\n",
    "        if path.exists(dag_confounder_path):\n",
    "        # Plot DAGs\n",
    "            # print(pd.read_parquet(dag_dataframe_path))\n",
    "            generate_plot(dag_path, dag_plot_path, csv_path)\n",
    "            generate_plot(dag_confounder_path, dag_confounder_plot_path, csv_path)\n"
   ]
  },
  {
   "cell_type": "markdown",
   "metadata": {},
   "source": [
    "# Run CAM on data"
   ]
  },
  {
   "cell_type": "code",
   "execution_count": 6,
   "metadata": {},
   "outputs": [],
   "source": [
    "def run_cam(data: array, output_path: str):\n",
    "    print(\"=================\")\n",
    "    print(\"Running CAM: \", output_path)\n",
    "    print(\"=================\")\n",
    "    cam_result_dir = os.path.join(output_path, \"cam\")\n",
    "    cam_result_path = os.path.join(cam_result_dir, \"result.npy\")\n",
    "    if not os.path.isdir(cam_result_dir):\n",
    "        os.mkdir(cam_result_dir)\n",
    "    obj = CAM()\n",
    "    df = DataFrame(data).astype(float32)\n",
    "    output = obj.predict(df)\n",
    "    pred = to_numpy_matrix(output)\n",
    "    save(cam_result_path, pred)"
   ]
  },
  {
   "cell_type": "code",
   "execution_count": 7,
   "metadata": {},
   "outputs": [
    {
     "data": {
      "text/plain": [
       "array([[ 0.13430775,  0.64757251, -0.33689519, ..., -1.6386685 ,\n",
       "         0.50566282,  0.13430775],\n",
       "       [-0.22075541, -0.31490199,  1.71283693, ..., -0.27932448,\n",
       "        -1.16027789, -0.22075541],\n",
       "       [ 0.38953108, -0.74322304,  1.52297946, ...,  0.80036491,\n",
       "         1.43703873,  0.38953108],\n",
       "       ...,\n",
       "       [ 0.93526312, -1.7625656 ,  0.34059972, ...,  1.00118443,\n",
       "         0.56828119,  0.93526312],\n",
       "       [ 0.35476308,  0.8611057 , -0.70068245, ..., -0.40309276,\n",
       "         1.69394289,  0.35476308],\n",
       "       [ 0.97727662, -0.58569472, -0.07302278, ...,  0.89481651,\n",
       "         2.80531204,  0.97727662]])"
      ]
     },
     "execution_count": 7,
     "metadata": {},
     "output_type": "execute_result"
    }
   ],
   "source": [
    "data_mix_mechanism_path = os.path.join(DATA_DIR, \"mix_mechanism\")\n",
    "dag_path = os.path.join(data_mix_mechanism_path, \"small_mixed_all_issues_1\")\n",
    "dag_data_path = os.path.join(dag_path, \"data1.npy\")\n",
    "data = load(dag_data_path)\n",
    "data"
   ]
  },
  {
   "cell_type": "code",
   "execution_count": 8,
   "metadata": {},
   "outputs": [
    {
     "name": "stdout",
     "output_type": "stream",
     "text": [
      "=================\n",
      "Running CAM:  \n",
      "=================\n"
     ]
    }
   ],
   "source": [
    "run_cam(data, \"\")"
   ]
  },
  {
   "cell_type": "code",
   "execution_count": null,
   "metadata": {},
   "outputs": [],
   "source": []
  }
 ],
 "metadata": {
  "kernelspec": {
   "display_name": "Python 3.7.12 ('python37_ml')",
   "language": "python",
   "name": "python3"
  },
  "language_info": {
   "codemirror_mode": {
    "name": "ipython",
    "version": 3
   },
   "file_extension": ".py",
   "mimetype": "text/x-python",
   "name": "python",
   "nbconvert_exporter": "python",
   "pygments_lexer": "ipython3",
   "version": "3.7.12"
  },
  "orig_nbformat": 4,
  "vscode": {
   "interpreter": {
    "hash": "5be6a64c2b14e215fe1377bac5e5b92f19d9678c98112b4d1212159c456db459"
   }
  }
 },
 "nbformat": 4,
 "nbformat_minor": 2
}
