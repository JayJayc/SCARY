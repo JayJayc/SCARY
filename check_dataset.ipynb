{
 "cells": [
  {
   "cell_type": "code",
   "execution_count": 17,
   "metadata": {},
   "outputs": [],
   "source": [
    "import networkx as nx\n",
    "import warnings\n",
    "import numpy as np\n",
    "import os\n",
    "from pandas import read_csv\n",
    "import csv\n",
    "import os.path\n",
    "from causalnex.structure import StructureModel\n",
    "from causalnex.plots import plot_structure\n",
    "from numpy import array, save, load\n",
    "from networkx import to_numpy_matrix\n",
    "from cdt.causality.graph import CAM\n",
    "import cdt\n",
    "from pandas import DataFrame\n",
    "from numpy import float32\n",
    "from os import path\n",
    "warnings.filterwarnings(\"ignore\")  # silence warnings\n",
    "\n",
    "# cdt.SETTINGS.rpath = os.getenv(\"RSCRIPT_PATH\")  # path to your r executable\n",
    "cdt.SETTINGS.rpath = 'C:\\Program Files\\R\\R-4.2.1\\\\bin\\Rscript' # path to your r executable\n",
    "\n"
   ]
  },
  {
   "cell_type": "code",
   "execution_count": 2,
   "metadata": {},
   "outputs": [],
   "source": [
    "DATA_DIR = \"CLeaR_2023_Dataset\"\n",
    "DATA_SPARSE_DIR = os.path.join(DATA_DIR, \"sparse\")\n",
    "DATA_DENSE_DIR = os.path.join(DATA_DIR, \"dense\")\n",
    "data_dirs = [DATA_SPARSE_DIR, DATA_DENSE_DIR]"
   ]
  },
  {
   "cell_type": "code",
   "execution_count": 3,
   "metadata": {},
   "outputs": [],
   "source": [
    "MECH_DIRS = ['linear_mechanism', 'mix_mechanism']"
   ]
  },
  {
   "cell_type": "markdown",
   "metadata": {},
   "source": [
    "# Plot graphs"
   ]
  },
  {
   "cell_type": "code",
   "execution_count": 4,
   "metadata": {},
   "outputs": [],
   "source": [
    "def generate_plot(dag_path, plot_path, csv_path):\n",
    "    dag = np.load(dag_path)\n",
    "\n",
    "    graph = nx.from_numpy_array(dag, create_using=nx.DiGraph)\n",
    "\n",
    "    e = list(graph.edges())\n",
    "    causal_nex_graph = StructureModel(e)\n",
    "    viz = plot_structure(causal_nex_graph)  # Default CausalNex visualisation\n",
    "    viz.draw(plot_path, format=\"jpg\")\n",
    "\n",
    "    # check if the file exists\n",
    "    file_exists = os.path.isfile(csv_path)\n",
    "\n",
    "    # # open the file in append mode\n",
    "    with open(csv_path, \"w\", newline=\"\") as csvfile:\n",
    "        # create a CSV writer object\n",
    "        writer = csv.writer(csvfile)\n",
    "\n",
    "        # if the file doesn't exist, write the header row\n",
    "        if not file_exists:\n",
    "            writer.writerow([\"nodes\", \"edges\"])\n",
    "\n",
    "        # write the value to the CSV file\n",
    "        writer.writerow([graph.number_of_nodes(), graph.number_of_edges()])"
   ]
  },
  {
   "cell_type": "code",
   "execution_count": 5,
   "metadata": {},
   "outputs": [],
   "source": [
    "def plot_data_dir(data_dir):\n",
    "    for mechanism_dir in MECH_DIRS:\n",
    "        method_path = os.path.join(data_dir, mechanism_dir)\n",
    "        print(method_path)\n",
    "        mechanism_dirs = os.listdir(path=method_path)\n",
    "\n",
    "        for dataset_dir in mechanism_dirs:\n",
    "            dataset_path = os.path.join(method_path, dataset_dir)\n",
    "            dag_plot_path = os.path.join(dataset_path, \"plot\")\n",
    "            if not os.path.isdir(dag_plot_path):\n",
    "                os.mkdir(dag_plot_path)\n",
    "\n",
    "            dag_confounder_path = os.path.join(dataset_path, \"confounder_DAG1.npy\")\n",
    "            dag_path = os.path.join(dataset_path, \"DAG1.npy\")\n",
    "\n",
    "            # Plot Paths\n",
    "            dag_confounder_plot_path = os.path.join(dag_plot_path, \"confounder_plot.jpg\")\n",
    "            dag_plot_path = os.path.join(dag_plot_path, \"plot.jpg\")\n",
    "            csv_path = os.path.join(dataset_path, \"details.csv\")\n",
    "            generate_plot(dag_path, dag_plot_path, csv_path)\n",
    "            if path.exists(dag_confounder_path):\n",
    "                generate_plot(dag_confounder_path, dag_confounder_plot_path, csv_path)\n"
   ]
  },
  {
   "cell_type": "code",
   "execution_count": 7,
   "metadata": {},
   "outputs": [
    {
     "name": "stdout",
     "output_type": "stream",
     "text": [
      "CLeaR_2023_Dataset\\sparse\\linear_mechanism\n",
      "CLeaR_2023_Dataset\\sparse\\mix_mechanism\n"
     ]
    }
   ],
   "source": [
    "plot_data_dir(DATA_SPARSE_DIR)"
   ]
  },
  {
   "cell_type": "code",
   "execution_count": 6,
   "metadata": {},
   "outputs": [
    {
     "name": "stdout",
     "output_type": "stream",
     "text": [
      "CLeaR_2023_Dataset\\dense\\linear_mechanism\n",
      "CLeaR_2023_Dataset\\dense\\mix_mechanism\n"
     ]
    }
   ],
   "source": [
    "plot_data_dir(DATA_DENSE_DIR)"
   ]
  },
  {
   "cell_type": "markdown",
   "metadata": {},
   "source": [
    "# Run CAM on data"
   ]
  },
  {
   "cell_type": "code",
   "execution_count": 7,
   "metadata": {},
   "outputs": [],
   "source": [
    "def run_cam(data: array, output_path: str):\n",
    "    print(\"=================\")\n",
    "    print(\"Running CAM: \", output_path)\n",
    "    print(\"=================\")\n",
    "    cam_result_dir = os.path.join(output_path, \"cam\")\n",
    "    cam_result_path = os.path.join(cam_result_dir, \"result.npy\")\n",
    "    if not os.path.isdir(cam_result_dir):\n",
    "        os.mkdir(cam_result_dir)\n",
    "    obj = CAM()\n",
    "    df = DataFrame(data).astype(float32)\n",
    "    output = obj.predict(df)\n",
    "    pred = to_numpy_matrix(output)\n",
    "    save(cam_result_path, pred)"
   ]
  },
  {
   "cell_type": "code",
   "execution_count": 8,
   "metadata": {},
   "outputs": [
    {
     "data": {
      "text/plain": [
       "array([[-0.79925409, -0.71223992, -1.42566298, ..., -1.54151049,\n",
       "         0.85435523,  2.68873163],\n",
       "       [-0.73175804, -1.18817698, -1.06359189, ..., -0.49245175,\n",
       "         0.64567766,  1.39755125],\n",
       "       [-1.35430492, -1.38586543, -1.11022287, ..., -1.74689566,\n",
       "         0.53072395,  4.35447961],\n",
       "       ...,\n",
       "       [ 0.6343002 ,  1.467998  ,  2.52825811, ...,  0.37776338,\n",
       "         0.4535749 ,  0.33155417],\n",
       "       [-0.04587649, -1.25319933,  2.5070255 , ..., -2.24164148,\n",
       "         0.34519461, -0.41713075],\n",
       "       [-1.03954153,  0.14134816,  2.71774188, ..., -0.68268577,\n",
       "        -0.16745526, -1.00698656]])"
      ]
     },
     "execution_count": 8,
     "metadata": {},
     "output_type": "execute_result"
    }
   ],
   "source": [
    "data_mix_mechanism_path = os.path.join(DATA_SPARSE_DIR, \"mix_mechanism\")\n",
    "dag_path = os.path.join(data_mix_mechanism_path, \"small_mixed_all_issues_3\")\n",
    "dag_data_path = os.path.join(dag_path, \"data1.npy\")\n",
    "dag_graph_path = os.path.join(dag_path, \"DAG1.npy\")\n",
    "data = load(dag_data_path)\n",
    "graph = load(dag_graph_path)\n",
    "data"
   ]
  },
  {
   "cell_type": "code",
   "execution_count": 9,
   "metadata": {},
   "outputs": [
    {
     "name": "stdout",
     "output_type": "stream",
     "text": [
      "=================\n",
      "Running CAM:  \n",
      "=================\n"
     ]
    }
   ],
   "source": [
    "run_cam(data, \"\")"
   ]
  },
  {
   "attachments": {},
   "cell_type": "markdown",
   "metadata": {},
   "source": [
    "# Varsortability"
   ]
  },
  {
   "cell_type": "code",
   "execution_count": 10,
   "metadata": {},
   "outputs": [],
   "source": [
    "import numpy as np\n",
    "def varsortability(X, W, tol=1e-9):\n",
    "    \"\"\" Takes n x d data and a d x d adjaceny matrix,\n",
    "    where the i,j-th entry corresponds to the edge weight for i->j,\n",
    "    and returns a value indicating how well the variance order\n",
    "    reflects the causal order. \"\"\"\n",
    "    E = W != 0\n",
    "    Ek = E.copy()\n",
    "    var = np.var(X, axis=0, keepdims=True)\n",
    "\n",
    "    n_paths = 0\n",
    "    n_correctly_ordered_paths = 0\n",
    "\n",
    "    for _ in range(E.shape[0] - 1):\n",
    "        n_paths += Ek.sum()\n",
    "        n_correctly_ordered_paths += (Ek * var / var.T > 1 + tol).sum()\n",
    "        n_correctly_ordered_paths += 1/2*(\n",
    "            (Ek * var / var.T <= 1 + tol) *\n",
    "            (Ek * var / var.T >  1 - tol)).sum()\n",
    "        Ek = Ek.dot(E)\n",
    "\n",
    "    return n_correctly_ordered_paths / n_paths"
   ]
  },
  {
   "cell_type": "code",
   "execution_count": 14,
   "metadata": {},
   "outputs": [],
   "source": [
    "varsortability_list = []\n",
    "for mechanism in MECH_DIRS:\n",
    "    data_mix_mechanism_path = os.path.join(DATA_SPARSE_DIR, mechanism)\n",
    "    for dag_path in [f.path for f in os.scandir(data_mix_mechanism_path) if f.is_dir()]:\n",
    "        dag_data_path = os.path.join(dag_path, \"data1.npy\")\n",
    "        dag_graph_path = os.path.join(dag_path, \"DAG1.npy\")\n",
    "        data = load(dag_data_path)\n",
    "        graph = load(dag_graph_path)\n",
    "        varsortability_list.append(varsortability(data, graph))"
   ]
  },
  {
   "cell_type": "code",
   "execution_count": 15,
   "metadata": {},
   "outputs": [
    {
     "data": {
      "text/plain": [
       "0.5373746748041726"
      ]
     },
     "execution_count": 15,
     "metadata": {},
     "output_type": "execute_result"
    }
   ],
   "source": [
    "sum(varsortability_list) / len(varsortability_list)"
   ]
  },
  {
   "attachments": {},
   "cell_type": "markdown",
   "metadata": {},
   "source": [
    "# Density"
   ]
  },
  {
   "cell_type": "code",
   "execution_count": 36,
   "metadata": {},
   "outputs": [],
   "source": [
    "node_edge_ratio_list = []\n",
    "for mechanism_dir in MECH_DIRS:\n",
    "    method_path = os.path.join(DATA_SPARSE_DIR, mechanism_dir)\n",
    "    mechanism_dirs = os.listdir(path=method_path)\n",
    "    for dataset_dir in mechanism_dirs:\n",
    "        dataset_path = os.path.join(method_path, dataset_dir)\n",
    "        csv_path = os.path.join(dataset_path, \"details.csv\")\n",
    "        df = read_csv(csv_path, names=['nodes', 'edges'])\n",
    "        df['ratio'] = df['edges']/df['nodes']\n",
    "        node_edge_ratio_list.append(df['ratio'].iloc[0])"
   ]
  },
  {
   "cell_type": "code",
   "execution_count": 37,
   "metadata": {},
   "outputs": [
    {
     "data": {
      "text/plain": [
       "1.2277883032000683"
      ]
     },
     "execution_count": 37,
     "metadata": {},
     "output_type": "execute_result"
    }
   ],
   "source": [
    "sum(node_edge_ratio_list) / len(node_edge_ratio_list)"
   ]
  },
  {
   "cell_type": "code",
   "execution_count": 34,
   "metadata": {},
   "outputs": [],
   "source": [
    "node_edge_ratio_list = []\n",
    "for mechanism_dir in MECH_DIRS:\n",
    "    method_path = os.path.join(DATA_DENSE_DIR, mechanism_dir)\n",
    "    mechanism_dirs = os.listdir(path=method_path)\n",
    "    for dataset_dir in mechanism_dirs:\n",
    "        dataset_path = os.path.join(method_path, dataset_dir)\n",
    "        csv_path = os.path.join(dataset_path, \"details.csv\")\n",
    "        df = read_csv(csv_path, names=['nodes', 'edges'])\n",
    "        df['ratio'] = df['edges']/df['nodes']\n",
    "        node_edge_ratio_list.append(df['ratio'].iloc[0])"
   ]
  },
  {
   "cell_type": "code",
   "execution_count": 35,
   "metadata": {},
   "outputs": [
    {
     "data": {
      "text/plain": [
       "2.162841227400052"
      ]
     },
     "execution_count": 35,
     "metadata": {},
     "output_type": "execute_result"
    }
   ],
   "source": [
    "sum(node_edge_ratio_list) / len(node_edge_ratio_list)"
   ]
  },
  {
   "cell_type": "code",
   "execution_count": null,
   "metadata": {},
   "outputs": [],
   "source": []
  }
 ],
 "metadata": {
  "kernelspec": {
   "display_name": "Python 3.7.12 ('python37_ml')",
   "language": "python",
   "name": "python3"
  },
  "language_info": {
   "codemirror_mode": {
    "name": "ipython",
    "version": 3
   },
   "file_extension": ".py",
   "mimetype": "text/x-python",
   "name": "python",
   "nbconvert_exporter": "python",
   "pygments_lexer": "ipython3",
   "version": "3.7.12"
  },
  "orig_nbformat": 4,
  "vscode": {
   "interpreter": {
    "hash": "5be6a64c2b14e215fe1377bac5e5b92f19d9678c98112b4d1212159c456db459"
   }
  }
 },
 "nbformat": 4,
 "nbformat_minor": 2
}
